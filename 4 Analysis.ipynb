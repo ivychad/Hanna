{
 "cells": [
  {
   "cell_type": "code",
   "execution_count": null,
   "metadata": {},
   "outputs": [],
   "source": [
    "import numpy as np\n",
    "import pandas as pd\n",
    "import matplotlib.pyplot as plt\n",
    "from sklearn.preprocessing import *\n",
    "from random import seed\n",
    "from scipy import stats\n",
    "import seaborn as sns\n",
    "import pingouin as pg"
   ]
  },
  {
   "cell_type": "markdown",
   "metadata": {},
   "source": [
    "Load data"
   ]
  },
  {
   "cell_type": "code",
   "execution_count": null,
   "metadata": {},
   "outputs": [],
   "source": [
    "# load data from pickle and convert to dataframe\n",
    "brain_test = pd.read_pickle(\"3_brain_test.pkl\")\n",
    "brain_train = pd.read_pickle(\"3_brain_train.pkl\")\n",
    "main_test = pd.read_pickle(\"3_main_test.pkl\")\n",
    "main_train = pd.read_pickle(\"3_main_train.pkl\")\n",
    "brain_test = pd.DataFrame(brain_test)\n",
    "brain_train = pd.DataFrame(brain_train)\n",
    "main_test = pd.DataFrame(main_test)\n",
    "main_train = pd.DataFrame(main_train)"
   ]
  },
  {
   "cell_type": "markdown",
   "metadata": {},
   "source": [
    "# Basic distributions"
   ]
  },
  {
   "cell_type": "markdown",
   "metadata": {},
   "source": [
    "- Comparing training and test set based on\n",
    "    - Gender\n",
    "    - Age\n",
    "    - Self-reported PA\n",
    "    - ??\n",
    "- Comparing excluded and included subjects based on\n",
    "    - Gender\n",
    "    - Age\n",
    "    - PA\n",
    "    - Brain Age Delta"
   ]
  },
  {
   "cell_type": "code",
   "execution_count": null,
   "metadata": {},
   "outputs": [],
   "source": []
  }
 ],
 "metadata": {
  "kernelspec": {
   "display_name": "Python 3.8.10 64-bit",
   "language": "python",
   "name": "python3"
  },
  "language_info": {
   "name": "python",
   "version": "3.8.10"
  },
  "orig_nbformat": 4,
  "vscode": {
   "interpreter": {
    "hash": "31f2aee4e71d21fbe5cf8b01ff0e069b9275f58929596ceb00d14d90e3e16cd6"
   }
  }
 },
 "nbformat": 4,
 "nbformat_minor": 2
}
